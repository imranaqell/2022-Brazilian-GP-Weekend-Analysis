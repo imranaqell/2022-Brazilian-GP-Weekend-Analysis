{
 "cells": [
  {
   "cell_type": "code",
   "execution_count": 1,
   "id": "b0228667",
   "metadata": {},
   "outputs": [],
   "source": [
    "import fastf1 as ff1\n",
    "from fastf1 import plotting\n",
    "from matplotlib import pyplot as plt\n",
    "from matplotlib.pyplot import figure\n",
    "import numpy as np\n",
    "import pandas as pd"
   ]
  },
  {
   "cell_type": "code",
   "execution_count": 2,
   "id": "78296c20",
   "metadata": {},
   "outputs": [
    {
     "name": "stderr",
     "output_type": "stream",
     "text": [
      "api         WARNING \t\n",
      "\n",
      "NO CACHE! Api caching has not been enabled! \n",
      "\tIt is highly recommended to enable this feature for much faster data loading!\n",
      "\tUse `fastf1.Cache.enable_cache('path/to/cache/')`\n",
      "\n",
      "C:\\Users\\Imran\\anaconda3\\lib\\site-packages\\fastf1\\core.py:1220: FutureWarning: `Session.load_laps` is deprecated and will beremoved in a future version.\n",
      "Use `Session.load` instead.\n",
      "  warnings.warn(\"`Session.load_laps` is deprecated and will be\"\n",
      "core           INFO \tLoading data for São Paulo Grand Prix - Sprint [v2.3.0]\n",
      "api            INFO \tFetching driver list...\n",
      "api            INFO \tFetching timing data...\n",
      "api            INFO \tParsing timing data...\n",
      "api            INFO \tFetching timing app data...\n",
      "core           INFO \tProcessing timing data...\n",
      "api            INFO \tFetching session status data...\n",
      "api            INFO \tFetching track status data...\n",
      "api            INFO \tFetching car data...\n",
      "api            INFO \tParsing car data...\n",
      "api            INFO \tFetching position data...\n",
      "api            INFO \tParsing position data...\n",
      "api            INFO \tFetching weather data...\n",
      "api            INFO \tFetching race control messages...\n",
      "core           INFO \tFinished loading data for 20 drivers: ['63', '55', '44', '1', '11', '16', '4', '20', '5', '10', '3', '47', '24', '77', '14', '22', '18', '31', '6', '23']\n"
     ]
    }
   ],
   "source": [
    "race = ff1.get_session(2022, 'Brazil', 'Sprint')\n",
    "laps = race.load_laps(with_telemetry=True)"
   ]
  },
  {
   "cell_type": "code",
   "execution_count": null,
   "id": "7d552821",
   "metadata": {},
   "outputs": [],
   "source": [
    "driver_stints = laps[['Driver', 'Stint', 'Compound', 'LapNumber']].groupby(\n",
    "    ['Driver', 'Stint', 'Compound']\n",
    ").count().reset_index()"
   ]
  },
  {
   "cell_type": "code",
   "execution_count": null,
   "id": "a6423049",
   "metadata": {},
   "outputs": [],
   "source": [
    "driver_stints = driver_stints.rename(columns={'LapNumber': 'StintLength'})\n",
    "\n",
    "driver_stints = driver_stints.sort_values(by=['Stint'])"
   ]
  },
  {
   "cell_type": "code",
   "execution_count": null,
   "id": "65fb4a46",
   "metadata": {},
   "outputs": [],
   "source": [
    "compound_colors = {\n",
    "    'SOFT': 'red',\n",
    "    'MEDIUM': 'yellow',\n",
    "    'HARD': 'white',\n",
    "    'INTERMEDIATE': 'green',\n",
    "    'WET': 'blue',\n",
    "}"
   ]
  },
  {
   "cell_type": "code",
   "execution_count": null,
   "id": "15398d3b",
   "metadata": {},
   "outputs": [],
   "source": [
    "plotting.setup_mpl()\n",
    "plt.rcParams[\"figure.figsize\"] = [10, 10]\n",
    "plt.rcParams[\"figure.autolayout\"] = True\n",
    "\n",
    "fig, ax = plt.subplots()\n",
    "\n",
    "for driver in race.results['Abbreviation']:\n",
    "    stints = driver_stints.loc[driver_stints['Driver'] == driver]\n",
    "    \n",
    "    previous_stint_end = 0\n",
    "    for _, stint in stints.iterrows():\n",
    "        plt.barh(\n",
    "            [driver], \n",
    "            stint['StintLength'], \n",
    "            left=previous_stint_end, \n",
    "            color=compound_colors[stint['Compound']], \n",
    "            edgecolor = \"black\"\n",
    "        )\n",
    "        \n",
    "        previous_stint_end = previous_stint_end + stint['StintLength']\n",
    "        \n",
    "# Set title\n",
    "plt.title(f'Race strategy - Italian Grand Prix 2022')\n",
    "        \n",
    "# Set x-label\n",
    "plt.xlabel('Lap')\n",
    "\n",
    "# Invert y-axis \n",
    "plt.gca().invert_yaxis()\n",
    "\n",
    "# Remove frame from plot\n",
    "ax.spines['top'].set_visible(False)\n",
    "ax.spines['right'].set_visible(False)\n",
    "ax.spines['left'].set_visible(False)\n",
    "plt.savefig('Monza_Strategy.png', dpi=350)"
   ]
  }
 ],
 "metadata": {
  "kernelspec": {
   "display_name": "Python 3 (ipykernel)",
   "language": "python",
   "name": "python3"
  },
  "language_info": {
   "codemirror_mode": {
    "name": "ipython",
    "version": 3
   },
   "file_extension": ".py",
   "mimetype": "text/x-python",
   "name": "python",
   "nbconvert_exporter": "python",
   "pygments_lexer": "ipython3",
   "version": "3.9.12"
  }
 },
 "nbformat": 4,
 "nbformat_minor": 5
}
